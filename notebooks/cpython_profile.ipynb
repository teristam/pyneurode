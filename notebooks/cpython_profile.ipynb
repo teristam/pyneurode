{
 "cells": [
  {
   "cell_type": "code",
   "execution_count": 1,
   "metadata": {
    "execution": {
     "iopub.execute_input": "2022-04-05T14:37:35.191624Z",
     "iopub.status.busy": "2022-04-05T14:37:35.191119Z",
     "iopub.status.idle": "2022-04-05T14:37:35.636426Z",
     "shell.execute_reply": "2022-04-05T14:37:35.635915Z",
     "shell.execute_reply.started": "2022-04-05T14:37:35.191119Z"
    },
    "tags": []
   },
   "outputs": [],
   "source": [
    "%reload_ext snakeviz\n",
    "%reload_ext autoreload\n",
    "%reload_ext cython\n",
    "%load_ext line_profiler\n",
    "%autoreload 2"
   ]
  },
  {
   "cell_type": "code",
   "execution_count": 2,
   "metadata": {
    "execution": {
     "iopub.execute_input": "2022-04-05T14:37:36.286624Z",
     "iopub.status.busy": "2022-04-05T14:37:36.286120Z",
     "iopub.status.idle": "2022-04-05T14:37:36.329469Z",
     "shell.execute_reply": "2022-04-05T14:37:36.328965Z",
     "shell.execute_reply.started": "2022-04-05T14:37:36.286624Z"
    },
    "jupyter": {
     "source_hidden": true
    },
    "tags": []
   },
   "outputs": [],
   "source": [
    "def recip_square(i):\n",
    "    return 1. / i ** 2\n",
    "\n",
    "def approx_pi(n=10000000):\n",
    "    val = 0.\n",
    "    for k in range(1, n + 1):\n",
    "        val += recip_square(k)\n",
    "    return (6 * val) ** .5"
   ]
  },
  {
   "cell_type": "code",
   "execution_count": 9,
   "metadata": {
    "execution": {
     "iopub.execute_input": "2022-04-05T14:44:39.194946Z",
     "iopub.status.busy": "2022-04-05T14:44:39.193942Z",
     "iopub.status.idle": "2022-04-05T14:44:41.431059Z",
     "shell.execute_reply": "2022-04-05T14:44:41.430557Z",
     "shell.execute_reply.started": "2022-04-05T14:44:39.194946Z"
    },
    "tags": []
   },
   "outputs": [],
   "source": [
    "%%cython\n",
    "# cython: linetrace=True\n",
    "# cython: binding=True\n",
    "# distutils: define_macros=CYTHON_TRACE_NOGIL=1\n",
    "\n",
    "cpdef double recip_square(long long i):\n",
    "    return 1. / (i * i)\n",
    "\n",
    "\n",
    "def approx_pi(int n=10000000):\n",
    "    cdef double val = 0.\n",
    "    cdef int k\n",
    "    for k in range(1, n + 1):\n",
    "        val += recip_square(k)\n",
    "    return (6 * val) ** .5"
   ]
  },
  {
   "cell_type": "code",
   "execution_count": 11,
   "metadata": {
    "execution": {
     "iopub.execute_input": "2022-04-05T14:46:52.466549Z",
     "iopub.status.busy": "2022-04-05T14:46:52.466549Z",
     "iopub.status.idle": "2022-04-05T14:46:53.335155Z",
     "shell.execute_reply": "2022-04-05T14:46:53.333947Z",
     "shell.execute_reply.started": "2022-04-05T14:46:52.466549Z"
    },
    "tags": []
   },
   "outputs": [
    {
     "data": {
      "text/plain": [
       "Timer unit: 0.001 s\n",
       "\n",
       "Total time: 0.166058 s\n",
       "File: C:\\Users\\teristam\\.ipython\\cython\\_cython_magic_67024c664f7b3e654f72e4621dd59b48.pyx\n",
       "Function: recip_square at line 5\n",
       "\n",
       "Line #      Hits         Time  Per Hit   % Time  Line Contents\n",
       "==============================================================\n",
       "     5                                           cpdef double recip_square(long long i):\n",
       "     6   1000000        166.1      0.0    100.0      return 1. / (i * i)\n",
       "     7                                           \n",
       "     8                                           \n",
       "     9                                           def approx_pi(int n=10000000):\n",
       "    10                                               cdef double val = 0.\n",
       "    11                                               cdef int k\n",
       "    12                                               for k in range(1, n + 1):\n",
       "    13                                                   val += recip_square(k)\n",
       "    14                                               return (6 * val) ** .5\n",
       "\n",
       "Total time: 0.684041 s\n",
       "File: C:\\Users\\teristam\\.ipython\\cython\\_cython_magic_67024c664f7b3e654f72e4621dd59b48.pyx\n",
       "Function: approx_pi at line 9\n",
       "\n",
       "Line #      Hits         Time  Per Hit   % Time  Line Contents\n",
       "==============================================================\n",
       "     9                                           def approx_pi(int n=10000000):\n",
       "    10         1          0.0      0.0      0.0      cdef double val = 0.\n",
       "    11                                               cdef int k\n",
       "    12         1          0.0      0.0      0.0      for k in range(1, n + 1):\n",
       "    13   1000000        684.0      0.0    100.0          val += recip_square(k)\n",
       "    14         1          0.0      0.0      0.0      return (6 * val) ** .5"
      ]
     },
     "metadata": {},
     "output_type": "display_data"
    }
   ],
   "source": [
    "%lprun -f approx_pi -f recip_square -u 1e-3 approx_pi(1000000)"
   ]
  },
  {
   "cell_type": "code",
   "execution_count": 18,
   "metadata": {
    "execution": {
     "iopub.execute_input": "2022-03-31T18:47:12.665633Z",
     "iopub.status.busy": "2022-03-31T18:47:12.665633Z",
     "iopub.status.idle": "2022-03-31T18:47:12.754596Z",
     "shell.execute_reply": "2022-03-31T18:47:12.753587Z",
     "shell.execute_reply.started": "2022-03-31T18:47:12.665633Z"
    }
   },
   "outputs": [
    {
     "data": {
      "text/plain": [
       "\u001b[1;31mDocstring:\u001b[0m\n",
       "Execute a statement under the line-by-line profiler from the\n",
       "line_profiler module.\n",
       "\n",
       "Usage:\n",
       "%lprun -f func1 -f func2 <statement>\n",
       "\n",
       "The given statement (which doesn't require quote marks) is run via the\n",
       "LineProfiler. Profiling is enabled for the functions specified by the -f\n",
       "options. The statistics will be shown side-by-side with the code through the\n",
       "pager once the statement has completed.\n",
       "\n",
       "Options:\n",
       "\n",
       "-f <function>: LineProfiler only profiles functions and methods it is told\n",
       "to profile.  This option tells the profiler about these functions. Multiple\n",
       "-f options may be used. The argument may be any expression that gives\n",
       "a Python function or method object. However, one must be careful to avoid\n",
       "spaces that may confuse the option parser.\n",
       "\n",
       "-m <module>: Get all the functions/methods in a module\n",
       "\n",
       "One or more -f or -m options are required to get any useful results.\n",
       "\n",
       "-D <filename>: dump the raw statistics out to a pickle file on disk. The\n",
       "usual extension for this is \".lprof\". These statistics may be viewed later\n",
       "by running line_profiler.py as a script.\n",
       "\n",
       "-T <filename>: dump the text-formatted statistics with the code side-by-side\n",
       "out to a text file.\n",
       "\n",
       "-r: return the LineProfiler object after it has completed profiling.\n",
       "\n",
       "-s: strip out all entries from the print-out that have zeros.\n",
       "\n",
       "-u: specify time unit for the print-out in seconds.\n",
       "\u001b[1;31mFile:\u001b[0m      c:\\users\\teristam\\anaconda3\\envs\\oeenv3.8\\lib\\site-packages\\line_profiler\\ipython_extension.py\n"
      ]
     },
     "metadata": {},
     "output_type": "display_data"
    }
   ],
   "source": [
    "lprun?"
   ]
  },
  {
   "cell_type": "code",
   "execution_count": null,
   "metadata": {},
   "outputs": [],
   "source": []
  }
 ],
 "metadata": {
  "kernelspec": {
   "display_name": "Python [conda env:oeEnv3.8]",
   "language": "python",
   "name": "conda-env-oeEnv3.8-py"
  },
  "language_info": {
   "codemirror_mode": {
    "name": "ipython",
    "version": 3
   },
   "file_extension": ".py",
   "mimetype": "text/x-python",
   "name": "python",
   "nbconvert_exporter": "python",
   "pygments_lexer": "ipython3",
   "version": "3.8.5"
  }
 },
 "nbformat": 4,
 "nbformat_minor": 4
}
