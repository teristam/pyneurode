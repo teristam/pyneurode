{
 "cells": [
  {
   "cell_type": "code",
   "execution_count": 1,
   "metadata": {},
   "outputs": [],
   "source": [
    "import igraph as ig"
   ]
  },
  {
   "cell_type": "code",
   "execution_count": 15,
   "metadata": {},
   "outputs": [
    {
     "data": {
      "image/svg+xml": "<?xml version=\"1.0\" encoding=\"UTF-8\"?>\n<svg xmlns=\"http://www.w3.org/2000/svg\" xmlns:xlink=\"http://www.w3.org/1999/xlink\" width=\"100pt\" height=\"100pt\" viewBox=\"0 0 100 100\" version=\"1.1\">\n<g id=\"surface44\">\n<rect x=\"0\" y=\"0\" width=\"100\" height=\"100\" style=\"fill:rgb(100%,100%,100%);fill-opacity:1;stroke:none;\"/>\n<path style=\"fill:none;stroke-width:1;stroke-linecap:butt;stroke-linejoin:miter;stroke:rgb(26.666667%,26.666667%,26.666667%);stroke-opacity:1;stroke-miterlimit:10;\" d=\"M 50.648438 59.292969 L 45.8125 48.164063 \"/>\n<path style=\"fill:none;stroke-width:1;stroke-linecap:butt;stroke-linejoin:miter;stroke:rgb(26.666667%,26.666667%,26.666667%);stroke-opacity:1;stroke-miterlimit:10;\" d=\"M 59.777344 68.605469 L 72.265625 67.003906 \"/>\n<path style=\"fill:none;stroke-width:1;stroke-linecap:butt;stroke-linejoin:miter;stroke:rgb(26.666667%,26.666667%,26.666667%);stroke-opacity:1;stroke-miterlimit:10;\" d=\"M 50.648438 59.292969 L 59.777344 68.605469 \"/>\n<path style=\"fill:none;stroke-width:1;stroke-linecap:butt;stroke-linejoin:miter;stroke:rgb(26.666667%,26.666667%,26.666667%);stroke-opacity:1;stroke-miterlimit:10;\" d=\"M 72.265625 67.003906 L 80 57.867188 \"/>\n<path style=\"fill-rule:nonzero;fill:rgb(100%,0%,0%);fill-opacity:1;stroke-width:1;stroke-linecap:butt;stroke-linejoin:miter;stroke:rgb(0%,0%,0%);stroke-opacity:1;stroke-miterlimit:10;\" d=\"M 60.648438 59.292969 C 60.648438 64.816406 56.171875 69.292969 50.648438 69.292969 C 45.125 69.292969 40.648438 64.816406 40.648438 59.292969 C 40.648438 53.769531 45.125 49.292969 50.648438 49.292969 C 56.171875 49.292969 60.648438 53.769531 60.648438 59.292969 \"/>\n<path style=\"fill-rule:nonzero;fill:rgb(100%,0%,0%);fill-opacity:1;stroke-width:1;stroke-linecap:butt;stroke-linejoin:miter;stroke:rgb(0%,0%,0%);stroke-opacity:1;stroke-miterlimit:10;\" d=\"M 55.8125 48.164063 C 55.8125 53.6875 51.335938 58.164063 45.8125 58.164063 C 40.289063 58.164063 35.8125 53.6875 35.8125 48.164063 C 35.8125 42.640625 40.289063 38.164063 45.8125 38.164063 C 51.335938 38.164063 55.8125 42.640625 55.8125 48.164063 \"/>\n<path style=\"fill-rule:nonzero;fill:rgb(100%,0%,0%);fill-opacity:1;stroke-width:1;stroke-linecap:butt;stroke-linejoin:miter;stroke:rgb(0%,0%,0%);stroke-opacity:1;stroke-miterlimit:10;\" d=\"M 69.777344 68.605469 C 69.777344 74.128906 65.296875 78.605469 59.777344 78.605469 C 54.253906 78.605469 49.777344 74.128906 49.777344 68.605469 C 49.777344 63.085938 54.253906 58.605469 59.777344 58.605469 C 65.296875 58.605469 69.777344 63.085938 69.777344 68.605469 \"/>\n<path style=\"fill-rule:nonzero;fill:rgb(100%,0%,0%);fill-opacity:1;stroke-width:1;stroke-linecap:butt;stroke-linejoin:miter;stroke:rgb(0%,0%,0%);stroke-opacity:1;stroke-miterlimit:10;\" d=\"M 82.265625 67.003906 C 82.265625 72.523438 77.789063 77.003906 72.265625 77.003906 C 66.742188 77.003906 62.265625 72.523438 62.265625 67.003906 C 62.265625 61.480469 66.742188 57.003906 72.265625 57.003906 C 77.789063 57.003906 82.265625 61.480469 82.265625 67.003906 \"/>\n<path style=\"fill-rule:nonzero;fill:rgb(100%,0%,0%);fill-opacity:1;stroke-width:1;stroke-linecap:butt;stroke-linejoin:miter;stroke:rgb(0%,0%,0%);stroke-opacity:1;stroke-miterlimit:10;\" d=\"M 88.359375 35.871094 C 88.359375 41.394531 83.878906 45.871094 78.359375 45.871094 C 72.835938 45.871094 68.359375 41.394531 68.359375 35.871094 C 68.359375 30.347656 72.835938 25.871094 78.359375 25.871094 C 83.878906 25.871094 88.359375 30.347656 88.359375 35.871094 \"/>\n<path style=\"fill-rule:nonzero;fill:rgb(100%,0%,0%);fill-opacity:1;stroke-width:1;stroke-linecap:butt;stroke-linejoin:miter;stroke:rgb(0%,0%,0%);stroke-opacity:1;stroke-miterlimit:10;\" d=\"M 39.820313 27.425781 C 39.820313 32.949219 35.34375 37.425781 29.820313 37.425781 C 24.296875 37.425781 19.820313 32.949219 19.820313 27.425781 C 19.820313 21.902344 24.296875 17.425781 29.820313 17.425781 C 35.34375 17.425781 39.820313 21.902344 39.820313 27.425781 \"/>\n<path style=\"fill-rule:nonzero;fill:rgb(100%,0%,0%);fill-opacity:1;stroke-width:1;stroke-linecap:butt;stroke-linejoin:miter;stroke:rgb(0%,0%,0%);stroke-opacity:1;stroke-miterlimit:10;\" d=\"M 30 44.027344 C 30 49.550781 25.523438 54.027344 20 54.027344 C 14.476563 54.027344 10 49.550781 10 44.027344 C 10 38.503906 14.476563 34.027344 20 34.027344 C 25.523438 34.027344 30 38.503906 30 44.027344 \"/>\n<path style=\"fill-rule:nonzero;fill:rgb(100%,0%,0%);fill-opacity:1;stroke-width:1;stroke-linecap:butt;stroke-linejoin:miter;stroke:rgb(0%,0%,0%);stroke-opacity:1;stroke-miterlimit:10;\" d=\"M 57.046875 20 C 57.046875 25.523438 52.566406 30 47.046875 30 C 41.523438 30 37.046875 25.523438 37.046875 20 C 37.046875 14.476563 41.523438 10 47.046875 10 C 52.566406 10 57.046875 14.476563 57.046875 20 \"/>\n<path style=\"fill-rule:nonzero;fill:rgb(100%,0%,0%);fill-opacity:1;stroke-width:1;stroke-linecap:butt;stroke-linejoin:miter;stroke:rgb(0%,0%,0%);stroke-opacity:1;stroke-miterlimit:10;\" d=\"M 32.726563 63.886719 C 32.726563 69.40625 28.246094 73.886719 22.726563 73.886719 C 17.203125 73.886719 12.726563 69.40625 12.726563 63.886719 C 12.726563 58.363281 17.203125 53.886719 22.726563 53.886719 C 28.246094 53.886719 32.726563 58.363281 32.726563 63.886719 \"/>\n<path style=\"fill-rule:nonzero;fill:rgb(100%,0%,0%);fill-opacity:1;stroke-width:1;stroke-linecap:butt;stroke-linejoin:miter;stroke:rgb(0%,0%,0%);stroke-opacity:1;stroke-miterlimit:10;\" d=\"M 74.886719 23.554688 C 74.886719 29.074219 70.410156 33.554688 64.886719 33.554688 C 59.363281 33.554688 54.886719 29.074219 54.886719 23.554688 C 54.886719 18.03125 59.363281 13.554688 64.886719 13.554688 C 70.410156 13.554688 74.886719 18.03125 74.886719 23.554688 \"/>\n<path style=\"fill-rule:nonzero;fill:rgb(100%,0%,0%);fill-opacity:1;stroke-width:1;stroke-linecap:butt;stroke-linejoin:miter;stroke:rgb(0%,0%,0%);stroke-opacity:1;stroke-miterlimit:10;\" d=\"M 48.789063 80 C 48.789063 85.523438 44.3125 90 38.789063 90 C 33.269531 90 28.789063 85.523438 28.789063 80 C 28.789063 74.476563 33.269531 70 38.789063 70 C 44.3125 70 48.789063 74.476563 48.789063 80 \"/>\n<path style=\"fill-rule:nonzero;fill:rgb(100%,0%,0%);fill-opacity:1;stroke-width:1;stroke-linecap:butt;stroke-linejoin:miter;stroke:rgb(0%,0%,0%);stroke-opacity:1;stroke-miterlimit:10;\" d=\"M 90 57.867188 C 90 63.386719 85.523438 67.867188 80 67.867188 C 74.476563 67.867188 70 63.386719 70 57.867188 C 70 52.34375 74.476563 47.867188 80 47.867188 C 85.523438 47.867188 90 52.34375 90 57.867188 \"/>\n</g>\n</svg>\n",
      "text/plain": [
       "<igraph.drawing.cairo.plot.CairoPlot at 0x1e271c414f0>"
      ]
     },
     "execution_count": 15,
     "metadata": {
      "image/svg+xml": {
       "isolated": true
      }
     },
     "output_type": "execute_result"
    }
   ],
   "source": [
    "g = ig.Graph(edges=[[0,1], [2,3],[0,2],[3,11]])\n",
    "layout = g.layout(layout='auto')\n",
    "ig.plot(g, bbox=(0,0,100,100))"
   ]
  },
  {
   "cell_type": "code",
   "execution_count": 18,
   "metadata": {},
   "outputs": [
    {
     "name": "stdout",
     "output_type": "stream",
     "text": [
      "[1.7676291079099746, 0.506050348463532]\n",
      "[2.0995736628140946, -0.35363875092106645]\n",
      "[1.217273987145198, 1.3218561759009795]\n",
      "[0.4129788005295847, 1.8868678780793442]\n",
      "[0.14664179620658271, -2.395687513566113]\n",
      "[-2.345533596134093, -1.138343489156382]\n",
      "[1.465784764142272, -1.842320702335921]\n",
      "[-1.2936968250441343, -2.205663029852255]\n",
      "[-2.5153288673179377, 0.30523534736877916]\n",
      "[-0.55551912197851, -0.4251477011028166]\n",
      "[-1.9427182941017413, 1.6157148161026462]\n",
      "[-0.4448390636150201, 2.225572388440992]\n"
     ]
    }
   ],
   "source": [
    "for v in layout:\n",
    "    print(v)"
   ]
  },
  {
   "cell_type": "code",
   "execution_count": 4,
   "metadata": {},
   "outputs": [],
   "source": []
  },
  {
   "cell_type": "code",
   "execution_count": 9,
   "metadata": {},
   "outputs": [
    {
     "data": {
      "image/svg+xml": "<?xml version=\"1.0\" encoding=\"UTF-8\"?>\n<svg xmlns=\"http://www.w3.org/2000/svg\" xmlns:xlink=\"http://www.w3.org/1999/xlink\" width=\"100pt\" height=\"100pt\" viewBox=\"0 0 100 100\" version=\"1.1\">\n<g id=\"surface8\">\n<rect x=\"0\" y=\"0\" width=\"100\" height=\"100\" style=\"fill:rgb(100%,100%,100%);fill-opacity:1;stroke:none;\"/>\n<path style=\"fill:none;stroke-width:1;stroke-linecap:butt;stroke-linejoin:miter;stroke:rgb(26.666667%,26.666667%,26.666667%);stroke-opacity:1;stroke-miterlimit:10;\" d=\"M 20 24.445313 L 65.507813 20 \"/>\n<path style=\"fill:none;stroke-width:1;stroke-linecap:butt;stroke-linejoin:miter;stroke:rgb(26.666667%,26.666667%,26.666667%);stroke-opacity:1;stroke-miterlimit:10;\" d=\"M 80 75.554688 L 34.492188 80 \"/>\n<path style=\"fill-rule:nonzero;fill:rgb(100%,0%,0%);fill-opacity:1;stroke-width:1;stroke-linecap:butt;stroke-linejoin:miter;stroke:rgb(0%,0%,0%);stroke-opacity:1;stroke-miterlimit:10;\" d=\"M 30 24.445313 C 30 29.96875 25.523438 34.445313 20 34.445313 C 14.476563 34.445313 10 29.96875 10 24.445313 C 10 18.921875 14.476563 14.445313 20 14.445313 C 25.523438 14.445313 30 18.921875 30 24.445313 \"/>\n<path style=\"fill-rule:nonzero;fill:rgb(100%,0%,0%);fill-opacity:1;stroke-width:1;stroke-linecap:butt;stroke-linejoin:miter;stroke:rgb(0%,0%,0%);stroke-opacity:1;stroke-miterlimit:10;\" d=\"M 75.507813 20 C 75.507813 25.523438 71.03125 30 65.507813 30 C 59.984375 30 55.507813 25.523438 55.507813 20 C 55.507813 14.476563 59.984375 10 65.507813 10 C 71.03125 10 75.507813 14.476563 75.507813 20 \"/>\n<path style=\"fill-rule:nonzero;fill:rgb(100%,0%,0%);fill-opacity:1;stroke-width:1;stroke-linecap:butt;stroke-linejoin:miter;stroke:rgb(0%,0%,0%);stroke-opacity:1;stroke-miterlimit:10;\" d=\"M 90 75.554688 C 90 81.078125 85.523438 85.554688 80 85.554688 C 74.476563 85.554688 70 81.078125 70 75.554688 C 70 70.03125 74.476563 65.554688 80 65.554688 C 85.523438 65.554688 90 70.03125 90 75.554688 \"/>\n<path style=\"fill-rule:nonzero;fill:rgb(100%,0%,0%);fill-opacity:1;stroke-width:1;stroke-linecap:butt;stroke-linejoin:miter;stroke:rgb(0%,0%,0%);stroke-opacity:1;stroke-miterlimit:10;\" d=\"M 44.492188 80 C 44.492188 85.523438 40.015625 90 34.492188 90 C 28.96875 90 24.492188 85.523438 24.492188 80 C 24.492188 74.476563 28.96875 70 34.492188 70 C 40.015625 70 44.492188 74.476563 44.492188 80 \"/>\n</g>\n</svg>\n",
      "text/plain": [
       "<igraph.drawing.cairo.plot.CairoPlot at 0x1e271a8ab50>"
      ]
     },
     "execution_count": 9,
     "metadata": {
      "image/svg+xml": {
       "isolated": true
      }
     },
     "output_type": "execute_result"
    }
   ],
   "source": [
    "ig.plot(g, bbox=(0,0,100,100))"
   ]
  },
  {
   "cell_type": "code",
   "execution_count": 8,
   "metadata": {},
   "outputs": [
    {
     "data": {
      "image/png": "[encoded data removed]",
      "text/plain": [
       "<Figure size 640x480 with 1 Axes>"
      ]
     },
     "execution_count": 8,
     "metadata": {},
     "output_type": "execute_result"
    }
   ],
   "source": [
    "import matplotlib.pyplot as plt\n",
    "fig, ax = plt.subplots()\n",
    "ig.plot(g, target=ax)\n",
    "fig"
   ]
  },
  {
   "cell_type": "code",
   "execution_count": null,
   "metadata": {},
   "outputs": [],
   "source": []
  }
 ],
 "metadata": {
  "kernelspec": {
   "display_name": "Python 3.8.13 ('pyneurode')",
   "language": "python",
   "name": "python3"
  },
  "language_info": {
   "codemirror_mode": {
    "name": "ipython",
    "version": 3
   },
   "file_extension": ".py",
   "mimetype": "text/x-python",
   "name": "python",
   "nbconvert_exporter": "python",
   "pygments_lexer": "ipython3",
   "version": "3.8.13"
  },
  "orig_nbformat": 4,
  "vscode": {
   "interpreter": {
    "hash": "cdbd8b37f24b2b8e2bd48d9c38c24ee69e68ab1b5f56b77fd00d238fb68beaf1"
   }
  }
 },
 "nbformat": 4,
 "nbformat_minor": 2
}
