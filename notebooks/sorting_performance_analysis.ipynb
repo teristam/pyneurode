{
 "cells": [
  {
   "cell_type": "markdown",
   "metadata": {
    "execution": {
     "iopub.execute_input": "2021-05-18T20:57:26.799934Z",
     "iopub.status.busy": "2021-05-18T20:57:26.799934Z",
     "iopub.status.idle": "2021-05-18T20:57:27.020932Z",
     "shell.execute_reply": "2021-05-18T20:57:27.020932Z",
     "shell.execute_reply.started": "2021-05-18T20:57:26.799934Z"
    }
   },
   "source": [
    "# only compare online or pseudo-online performance"
   ]
  },
  {
   "cell_type": "code",
   "execution_count": 10,
   "metadata": {
    "execution": {
     "iopub.execute_input": "2022-03-29T15:32:56.579786Z",
     "iopub.status.busy": "2022-03-29T15:32:56.578809Z",
     "iopub.status.idle": "2022-03-29T15:32:56.767225Z",
     "shell.execute_reply": "2022-03-29T15:32:56.767225Z",
     "shell.execute_reply.started": "2022-03-29T15:32:56.578809Z"
    },
    "tags": []
   },
   "outputs": [
    {
     "name": "stdout",
     "output_type": "stream",
     "text": [
      "The snakeviz extension is already loaded. To reload it, use:\n",
      "  %reload_ext snakeviz\n"
     ]
    }
   ],
   "source": [
    "%reload_ext autoreload\n",
    "%autoreload 2\n",
    "%load_ext snakeviz\n",
    "import pickle\n",
    "import pandas as pd \n",
    "from pyneurode.spike_sorter import *\n",
    "import sys\n",
    "sys.path.append('..\\\\spikeforest_comparison')\n",
    "sys.path.append('..\\\\')\n",
    "\n",
    "\n",
    "import spikeinterface as si\n",
    "import spikeinterface.comparison as sc\n",
    "import spikeinterface.extractors as se\n",
    "import spikeinterface.sorters as ss\n",
    "import spikeinterface.toolkit as st\n",
    "import spikeinterface.widgets as sw\n",
    "from tqdm import tqdm\n",
    "import seaborn as sns "
   ]
  },
  {
   "cell_type": "markdown",
   "metadata": {},
   "source": [
    "### Loading previously detected spikes"
   ]
  },
  {
   "cell_type": "code",
   "execution_count": 2,
   "metadata": {
    "execution": {
     "iopub.execute_input": "2022-03-29T12:11:43.096368Z",
     "iopub.status.busy": "2022-03-29T12:11:43.096368Z",
     "iopub.status.idle": "2022-03-29T12:11:57.997748Z",
     "shell.execute_reply": "2022-03-29T12:11:57.997240Z",
     "shell.execute_reply.started": "2022-03-29T12:11:43.096368Z"
    },
    "tags": []
   },
   "outputs": [
    {
     "name": "stdout",
     "output_type": "stream",
     "text": [
      "Loading spike data\n"
     ]
    }
   ],
   "source": [
    "# load previous collected spikes\n",
    "print('Loading spike data')\n",
    "# path = 'D:\\Documents\\GitHub\\spikeforest_comparison\\data\\df_sort_M1_D20_45_th5.pkl'\n",
    "path = '../data/df_sort_M1_D20_45_th5.pkl'\n",
    "with open(path,'rb') as f:\n",
    "    df_list = pickle.load(f)\n",
    "\n",
    "df = pd.concat(df_list)   \n",
    "df.reset_index() #make sure no index has duplicates\n",
    "\n",
    "# Save the online cluster id to another column\n",
    "df.rename(columns={'cluster_id':'cluster_id_online'},inplace=True)\n",
    "# df"
   ]
  },
  {
   "cell_type": "markdown",
   "metadata": {},
   "source": [
    "### Clusting-TM split"
   ]
  },
  {
   "cell_type": "code",
   "execution_count": 3,
   "metadata": {
    "execution": {
     "iopub.execute_input": "2022-03-29T15:06:49.311895Z",
     "iopub.status.busy": "2022-03-29T15:06:49.311389Z",
     "iopub.status.idle": "2022-03-29T15:06:50.407962Z",
     "shell.execute_reply": "2022-03-29T15:06:50.407457Z",
     "shell.execute_reply.started": "2022-03-29T15:06:49.311895Z"
    },
    "tags": []
   },
   "outputs": [
    {
     "name": "stdout",
     "output_type": "stream",
     "text": [
      "Sorting spikes\n",
      "Aligning spikes\n",
      "Sorting electrode 1\n",
      "use normalized pc\n",
      "Sorting electrode 2\n",
      "use normalized pc\n",
      "Sorting electrode 0\n",
      "use normalized pc\n",
      "Sorting electrode 3\n",
      "use normalized pc\n",
      "Number of template 14\n"
     ]
    }
   ],
   "source": [
    "\n",
    "# %% Sorting spikes\n",
    "print('Sorting spikes')\n",
    "training_spikes = 20000\n",
    "df_sort = df.loc[:, ['spike_waveform','time','electrode_ids','channel_ids','spike_id','timestamps','acq_timestamps']] # remove other columns\n",
    "\n",
    "# train template\n",
    "df_train,pca_transformer,standard_scalers = sort_all_electrodes(df_sort.iloc[:training_spikes].copy(), pca_component=3, verbose=True) #sort spikes\n",
    "\n",
    "(templates, template_cluster_id, template_electrode_id) = generate_spike_templates(df_train)\n",
    "print(f'Number of template {len(templates)}')\n",
    "\n",
    "# template match all subsequent neurons\n",
    "df_sortc = df_sort.copy()"
   ]
  },
  {
   "cell_type": "markdown",
   "metadata": {},
   "source": [
    "### Measure performance"
   ]
  },
  {
   "cell_type": "code",
   "execution_count": 11,
   "metadata": {
    "execution": {
     "iopub.execute_input": "2022-03-29T15:33:02.272461Z",
     "iopub.status.busy": "2022-03-29T15:33:02.272461Z",
     "iopub.status.idle": "2022-03-29T15:33:57.064857Z",
     "shell.execute_reply": "2022-03-29T15:33:57.063835Z",
     "shell.execute_reply.started": "2022-03-29T15:33:02.272461Z"
    },
    "tags": []
   },
   "outputs": [
    {
     "name": "stdout",
     "output_type": "stream",
     "text": [
      "6.82 s ± 31.3 ms per loop (mean ± std. dev. of 7 runs, 1 loop each)\n"
     ]
    }
   ],
   "source": [
    "%timeit df_matched = template_match_all_electrodes_fast(df_sortc, templates, template_electrode_id, template_cluster_id)"
   ]
  },
  {
   "cell_type": "code",
   "execution_count": 11,
   "metadata": {},
   "outputs": [],
   "source": [
    "df_matched = template_match_all_electrodes_fast(df_sortc, templates, template_electrode_id, template_cluster_id, pca_transformer, standard_scalers)"
   ]
  },
  {
   "cell_type": "code",
   "execution_count": 8,
   "metadata": {},
   "outputs": [
    {
     "name": "stdout",
     "output_type": "stream",
     "text": [
      "16.6 s ± 1.35 s per loop (mean ± std. dev. of 7 runs, 1 loop each)\n"
     ]
    }
   ],
   "source": [
    "%timeit df_matched = template_match_all_electrodes(df_sortc, templates, template_electrode_id, template_cluster_id,pca_transformer, standard_scalers)"
   ]
  },
  {
   "cell_type": "code",
   "execution_count": 5,
   "metadata": {
    "execution": {
     "iopub.execute_input": "2022-03-29T15:12:12.814840Z",
     "iopub.status.busy": "2022-03-29T15:12:12.814840Z",
     "iopub.status.idle": "2022-03-29T15:12:20.119212Z",
     "shell.execute_reply": "2022-03-29T15:12:20.118705Z",
     "shell.execute_reply.started": "2022-03-29T15:12:12.814840Z"
    },
    "tags": []
   },
   "outputs": [
    {
     "data": {
      "text/html": [
       "<div>\n",
       "<style scoped>\n",
       "    .dataframe tbody tr th:only-of-type {\n",
       "        vertical-align: middle;\n",
       "    }\n",
       "\n",
       "    .dataframe tbody tr th {\n",
       "        vertical-align: top;\n",
       "    }\n",
       "\n",
       "    .dataframe thead th {\n",
       "        text-align: right;\n",
       "    }\n",
       "</style>\n",
       "<table border=\"1\" class=\"dataframe\">\n",
       "  <thead>\n",
       "    <tr style=\"text-align: right;\">\n",
       "      <th></th>\n",
       "      <th>spike_waveform</th>\n",
       "      <th>time</th>\n",
       "      <th>electrode_ids</th>\n",
       "      <th>channel_ids</th>\n",
       "      <th>spike_id</th>\n",
       "      <th>timestamps</th>\n",
       "      <th>acq_timestamps</th>\n",
       "      <th>cluster_id</th>\n",
       "      <th>spike_waveform_aligned</th>\n",
       "      <th>sorting_time</th>\n",
       "      <th>pc_norm</th>\n",
       "    </tr>\n",
       "  </thead>\n",
       "  <tbody>\n",
       "    <tr>\n",
       "      <th>0</th>\n",
       "      <td>[-0.05250948, -0.14332052, -0.022488609, 0.048...</td>\n",
       "      <td>[0, 1, 2, 3, 4, 5, 6, 7, 8, 9, 10, 11, 12, 13,...</td>\n",
       "      <td>1</td>\n",
       "      <td>[0, 0, 0, 0, 0, 0, 0, 0, 0, 0, 0, 0, 0, 0, 0, ...</td>\n",
       "      <td>0</td>\n",
       "      <td>375862</td>\n",
       "      <td>1.615648e+09</td>\n",
       "      <td>C1_5</td>\n",
       "      <td>[0.048003923147916794, -0.21444782614707947, -...</td>\n",
       "      <td>0.000418</td>\n",
       "      <td>None</td>\n",
       "    </tr>\n",
       "    <tr>\n",
       "      <th>1</th>\n",
       "      <td>[-0.5246422, -0.609553, -0.35305232, -0.039588...</td>\n",
       "      <td>[0, 1, 2, 3, 4, 5, 6, 7, 8, 9, 10, 11, 12, 13,...</td>\n",
       "      <td>1</td>\n",
       "      <td>[0, 0, 0, 0, 0, 0, 0, 0, 0, 0, 0, 0, 0, 0, 0, ...</td>\n",
       "      <td>1</td>\n",
       "      <td>376256</td>\n",
       "      <td>1.615648e+09</td>\n",
       "      <td>C1_2</td>\n",
       "      <td>[-0.039588578045368195, -0.12017491459846497, ...</td>\n",
       "      <td>0.000180</td>\n",
       "      <td>None</td>\n",
       "    </tr>\n",
       "    <tr>\n",
       "      <th>2</th>\n",
       "      <td>[-0.45728362, 0.3922822, 0.60337937, 0.3992793...</td>\n",
       "      <td>[0, 1, 2, 3, 4, 5, 6, 7, 8, 9, 10, 11, 12, 13,...</td>\n",
       "      <td>1</td>\n",
       "      <td>[0, 0, 0, 0, 0, 0, 0, 0, 0, 0, 0, 0, 0, 0, 0, ...</td>\n",
       "      <td>2</td>\n",
       "      <td>376899</td>\n",
       "      <td>1.615648e+09</td>\n",
       "      <td>C1_3</td>\n",
       "      <td>[0.3992793560028076, -0.10937236249446869, -0....</td>\n",
       "      <td>0.000158</td>\n",
       "      <td>None</td>\n",
       "    </tr>\n",
       "    <tr>\n",
       "      <th>3</th>\n",
       "      <td>[0.46189496, 1.5869086, 1.8508329, 1.4992404, ...</td>\n",
       "      <td>[0, 1, 2, 3, 4, 5, 6, 7, 8, 9, 10, 11, 12, 13,...</td>\n",
       "      <td>2</td>\n",
       "      <td>[0, 0, 0, 0, 0, 0, 0, 0, 0, 0, 0, 0, 0, 0, 0, ...</td>\n",
       "      <td>3</td>\n",
       "      <td>377838</td>\n",
       "      <td>1.615648e+09</td>\n",
       "      <td>C2_1</td>\n",
       "      <td>[1.4992403984069824, 1.132098913192749, 0.6527...</td>\n",
       "      <td>0.000112</td>\n",
       "      <td>None</td>\n",
       "    </tr>\n",
       "    <tr>\n",
       "      <th>4</th>\n",
       "      <td>[0.909833, 0.2761541, 0.17282563, 0.516779, 1....</td>\n",
       "      <td>[0, 1, 2, 3, 4, 5, 6, 7, 8, 9, 10, 11, 12, 13,...</td>\n",
       "      <td>1</td>\n",
       "      <td>[0, 0, 0, 0, 0, 0, 0, 0, 0, 0, 0, 0, 0, 0, 0, ...</td>\n",
       "      <td>4</td>\n",
       "      <td>377887</td>\n",
       "      <td>1.615648e+09</td>\n",
       "      <td>C1_2</td>\n",
       "      <td>[0.5167790055274963, 1.1071397066116333, 1.749...</td>\n",
       "      <td>0.000123</td>\n",
       "      <td>None</td>\n",
       "    </tr>\n",
       "    <tr>\n",
       "      <th>...</th>\n",
       "      <td>...</td>\n",
       "      <td>...</td>\n",
       "      <td>...</td>\n",
       "      <td>...</td>\n",
       "      <td>...</td>\n",
       "      <td>...</td>\n",
       "      <td>...</td>\n",
       "      <td>...</td>\n",
       "      <td>...</td>\n",
       "      <td>...</td>\n",
       "      <td>...</td>\n",
       "    </tr>\n",
       "    <tr>\n",
       "      <th>10</th>\n",
       "      <td>[0.06949595, 0.29736862, 0.81068987, 1.116027,...</td>\n",
       "      <td>[0, 1, 2, 3, 4, 5, 6, 7, 8, 9, 10, 11, 12, 13,...</td>\n",
       "      <td>0</td>\n",
       "      <td>[0, 0, 0, 0, 0, 0, 0, 0, 0, 0, 0, 0, 0, 0, 0, ...</td>\n",
       "      <td>10</td>\n",
       "      <td>9118576</td>\n",
       "      <td>1.615648e+09</td>\n",
       "      <td>C0_3</td>\n",
       "      <td>[1.1160269975662231, 0.888058602809906, 0.3635...</td>\n",
       "      <td>0.000083</td>\n",
       "      <td>None</td>\n",
       "    </tr>\n",
       "    <tr>\n",
       "      <th>11</th>\n",
       "      <td>[0.16372728, -0.009656481, 0.16306406, -0.3709...</td>\n",
       "      <td>[0, 1, 2, 3, 4, 5, 6, 7, 8, 9, 10, 11, 12, 13,...</td>\n",
       "      <td>2</td>\n",
       "      <td>[0, 0, 0, 0, 0, 0, 0, 0, 0, 0, 0, 0, 0, 0, 0, ...</td>\n",
       "      <td>11</td>\n",
       "      <td>9118598</td>\n",
       "      <td>1.615648e+09</td>\n",
       "      <td>C2_2</td>\n",
       "      <td>[-0.3709728717803955, -1.4567493200302124, -1....</td>\n",
       "      <td>0.000083</td>\n",
       "      <td>None</td>\n",
       "    </tr>\n",
       "    <tr>\n",
       "      <th>12</th>\n",
       "      <td>[-0.8042053, -0.5876875, 0.13034075, 0.6422738...</td>\n",
       "      <td>[0, 1, 2, 3, 4, 5, 6, 7, 8, 9, 10, 11, 12, 13,...</td>\n",
       "      <td>1</td>\n",
       "      <td>[0, 0, 0, 0, 0, 0, 0, 0, 0, 0, 0, 0, 0, 0, 0, ...</td>\n",
       "      <td>12</td>\n",
       "      <td>9118667</td>\n",
       "      <td>1.615648e+09</td>\n",
       "      <td>C1_5</td>\n",
       "      <td>[0.6422738432884216, 0.7085359692573547, 0.359...</td>\n",
       "      <td>0.000084</td>\n",
       "      <td>None</td>\n",
       "    </tr>\n",
       "    <tr>\n",
       "      <th>13</th>\n",
       "      <td>[-0.020245934, 1.4837929, 1.8430108, 1.3749459...</td>\n",
       "      <td>[0, 1, 2, 3, 4, 5, 6, 7, 8, 9, 10, 11, 12, 13,...</td>\n",
       "      <td>3</td>\n",
       "      <td>[0, 0, 0, 0, 0, 0, 0, 0, 0, 0, 0, 0, 0, 0, 0, ...</td>\n",
       "      <td>13</td>\n",
       "      <td>9118788</td>\n",
       "      <td>1.615648e+09</td>\n",
       "      <td>C3_1</td>\n",
       "      <td>[1.374945878982544, 0.7906058430671692, 0.8324...</td>\n",
       "      <td>0.000085</td>\n",
       "      <td>None</td>\n",
       "    </tr>\n",
       "    <tr>\n",
       "      <th>14</th>\n",
       "      <td>[1.3540015, 1.963549, 2.0963612, 0.59597975, -...</td>\n",
       "      <td>[0, 1, 2, 3, 4, 5, 6, 7, 8, 9, 10, 11, 12, 13,...</td>\n",
       "      <td>1</td>\n",
       "      <td>[0, 0, 0, 0, 0, 0, 0, 0, 0, 0, 0, 0, 0, 0, 0, ...</td>\n",
       "      <td>14</td>\n",
       "      <td>9118826</td>\n",
       "      <td>1.615648e+09</td>\n",
       "      <td>C1_5</td>\n",
       "      <td>[0.5959797501564026, -1.9529396295547485, -3.3...</td>\n",
       "      <td>0.000085</td>\n",
       "      <td>None</td>\n",
       "    </tr>\n",
       "  </tbody>\n",
       "</table>\n",
       "<p>46934 rows × 11 columns</p>\n",
       "</div>"
      ],
      "text/plain": [
       "                                       spike_waveform  \\\n",
       "0   [-0.05250948, -0.14332052, -0.022488609, 0.048...   \n",
       "1   [-0.5246422, -0.609553, -0.35305232, -0.039588...   \n",
       "2   [-0.45728362, 0.3922822, 0.60337937, 0.3992793...   \n",
       "3   [0.46189496, 1.5869086, 1.8508329, 1.4992404, ...   \n",
       "4   [0.909833, 0.2761541, 0.17282563, 0.516779, 1....   \n",
       "..                                                ...   \n",
       "10  [0.06949595, 0.29736862, 0.81068987, 1.116027,...   \n",
       "11  [0.16372728, -0.009656481, 0.16306406, -0.3709...   \n",
       "12  [-0.8042053, -0.5876875, 0.13034075, 0.6422738...   \n",
       "13  [-0.020245934, 1.4837929, 1.8430108, 1.3749459...   \n",
       "14  [1.3540015, 1.963549, 2.0963612, 0.59597975, -...   \n",
       "\n",
       "                                                 time  electrode_ids  \\\n",
       "0   [0, 1, 2, 3, 4, 5, 6, 7, 8, 9, 10, 11, 12, 13,...              1   \n",
       "1   [0, 1, 2, 3, 4, 5, 6, 7, 8, 9, 10, 11, 12, 13,...              1   \n",
       "2   [0, 1, 2, 3, 4, 5, 6, 7, 8, 9, 10, 11, 12, 13,...              1   \n",
       "3   [0, 1, 2, 3, 4, 5, 6, 7, 8, 9, 10, 11, 12, 13,...              2   \n",
       "4   [0, 1, 2, 3, 4, 5, 6, 7, 8, 9, 10, 11, 12, 13,...              1   \n",
       "..                                                ...            ...   \n",
       "10  [0, 1, 2, 3, 4, 5, 6, 7, 8, 9, 10, 11, 12, 13,...              0   \n",
       "11  [0, 1, 2, 3, 4, 5, 6, 7, 8, 9, 10, 11, 12, 13,...              2   \n",
       "12  [0, 1, 2, 3, 4, 5, 6, 7, 8, 9, 10, 11, 12, 13,...              1   \n",
       "13  [0, 1, 2, 3, 4, 5, 6, 7, 8, 9, 10, 11, 12, 13,...              3   \n",
       "14  [0, 1, 2, 3, 4, 5, 6, 7, 8, 9, 10, 11, 12, 13,...              1   \n",
       "\n",
       "                                          channel_ids  spike_id  timestamps  \\\n",
       "0   [0, 0, 0, 0, 0, 0, 0, 0, 0, 0, 0, 0, 0, 0, 0, ...         0      375862   \n",
       "1   [0, 0, 0, 0, 0, 0, 0, 0, 0, 0, 0, 0, 0, 0, 0, ...         1      376256   \n",
       "2   [0, 0, 0, 0, 0, 0, 0, 0, 0, 0, 0, 0, 0, 0, 0, ...         2      376899   \n",
       "3   [0, 0, 0, 0, 0, 0, 0, 0, 0, 0, 0, 0, 0, 0, 0, ...         3      377838   \n",
       "4   [0, 0, 0, 0, 0, 0, 0, 0, 0, 0, 0, 0, 0, 0, 0, ...         4      377887   \n",
       "..                                                ...       ...         ...   \n",
       "10  [0, 0, 0, 0, 0, 0, 0, 0, 0, 0, 0, 0, 0, 0, 0, ...        10     9118576   \n",
       "11  [0, 0, 0, 0, 0, 0, 0, 0, 0, 0, 0, 0, 0, 0, 0, ...        11     9118598   \n",
       "12  [0, 0, 0, 0, 0, 0, 0, 0, 0, 0, 0, 0, 0, 0, 0, ...        12     9118667   \n",
       "13  [0, 0, 0, 0, 0, 0, 0, 0, 0, 0, 0, 0, 0, 0, 0, ...        13     9118788   \n",
       "14  [0, 0, 0, 0, 0, 0, 0, 0, 0, 0, 0, 0, 0, 0, 0, ...        14     9118826   \n",
       "\n",
       "    acq_timestamps cluster_id  \\\n",
       "0     1.615648e+09       C1_5   \n",
       "1     1.615648e+09       C1_2   \n",
       "2     1.615648e+09       C1_3   \n",
       "3     1.615648e+09       C2_1   \n",
       "4     1.615648e+09       C1_2   \n",
       "..             ...        ...   \n",
       "10    1.615648e+09       C0_3   \n",
       "11    1.615648e+09       C2_2   \n",
       "12    1.615648e+09       C1_5   \n",
       "13    1.615648e+09       C3_1   \n",
       "14    1.615648e+09       C1_5   \n",
       "\n",
       "                               spike_waveform_aligned  sorting_time pc_norm  \n",
       "0   [0.048003923147916794, -0.21444782614707947, -...      0.000418    None  \n",
       "1   [-0.039588578045368195, -0.12017491459846497, ...      0.000180    None  \n",
       "2   [0.3992793560028076, -0.10937236249446869, -0....      0.000158    None  \n",
       "3   [1.4992403984069824, 1.132098913192749, 0.6527...      0.000112    None  \n",
       "4   [0.5167790055274963, 1.1071397066116333, 1.749...      0.000123    None  \n",
       "..                                                ...           ...     ...  \n",
       "10  [1.1160269975662231, 0.888058602809906, 0.3635...      0.000083    None  \n",
       "11  [-0.3709728717803955, -1.4567493200302124, -1....      0.000083    None  \n",
       "12  [0.6422738432884216, 0.7085359692573547, 0.359...      0.000084    None  \n",
       "13  [1.374945878982544, 0.7906058430671692, 0.8324...      0.000085    None  \n",
       "14  [0.5959797501564026, -1.9529396295547485, -3.3...      0.000085    None  \n",
       "\n",
       "[46934 rows x 11 columns]"
      ]
     },
     "execution_count": 5,
     "metadata": {},
     "output_type": "execute_result"
    }
   ],
   "source": [
    "sorted_df = template_match_all_electrodes_fast(df_sortc, templates, template_electrode_id, template_cluster_id)\n",
    "sorted_df"
   ]
  },
  {
   "cell_type": "code",
   "execution_count": 6,
   "metadata": {
    "execution": {
     "iopub.execute_input": "2022-03-29T15:12:23.837764Z",
     "iopub.status.busy": "2022-03-29T15:12:23.837764Z",
     "iopub.status.idle": "2022-03-29T15:13:07.072781Z",
     "shell.execute_reply": "2022-03-29T15:13:07.071769Z",
     "shell.execute_reply.started": "2022-03-29T15:12:23.837764Z"
    },
    "tags": []
   },
   "outputs": [
    {
     "data": {
      "text/plain": [
       "<AxesSubplot:xlabel='sorting_time', ylabel='Count'>"
      ]
     },
     "execution_count": 6,
     "metadata": {},
     "output_type": "execute_result"
    },
    {
     "data": {
      "image/png": "[encoded data removed]",
      "text/plain": [
       "<Figure size 432x288 with 1 Axes>"
      ]
     },
     "metadata": {
      "needs_background": "light"
     },
     "output_type": "display_data"
    }
   ],
   "source": [
    "# sorted_df.sorting_time.hist(bins=100)\n",
    "sns.histplot(x='sorting_time',data=sorted_df)"
   ]
  },
  {
   "cell_type": "code",
   "execution_count": 7,
   "metadata": {
    "execution": {
     "iopub.execute_input": "2022-03-29T15:13:07.075305Z",
     "iopub.status.busy": "2022-03-29T15:13:07.074802Z",
     "iopub.status.idle": "2022-03-29T15:13:07.178986Z",
     "shell.execute_reply": "2022-03-29T15:13:07.177975Z",
     "shell.execute_reply.started": "2022-03-29T15:13:07.075305Z"
    },
    "tags": []
   },
   "outputs": [
    {
     "data": {
      "text/plain": [
       "207.04820152525545"
      ]
     },
     "execution_count": 7,
     "metadata": {},
     "output_type": "execute_result"
    }
   ],
   "source": [
    "t = sorted_df.sorting_time.mean()\n",
    "\n",
    "1/t/50"
   ]
  },
  {
   "cell_type": "code",
   "execution_count": 8,
   "metadata": {
    "execution": {
     "iopub.execute_input": "2022-03-29T15:13:22.787253Z",
     "iopub.status.busy": "2022-03-29T15:13:22.786250Z",
     "iopub.status.idle": "2022-03-29T15:13:22.879700Z",
     "shell.execute_reply": "2022-03-29T15:13:22.879196Z",
     "shell.execute_reply.started": "2022-03-29T15:13:22.787253Z"
    },
    "tags": []
   },
   "outputs": [
    {
     "data": {
      "text/plain": [
       "9.659586440580807e-05"
      ]
     },
     "execution_count": 8,
     "metadata": {},
     "output_type": "execute_result"
    }
   ],
   "source": [
    "t"
   ]
  },
  {
   "cell_type": "code",
   "execution_count": 12,
   "metadata": {
    "execution": {
     "iopub.execute_input": "2022-03-29T15:37:36.056537Z",
     "iopub.status.busy": "2022-03-29T15:37:36.056537Z",
     "iopub.status.idle": "2022-03-29T15:37:51.161353Z",
     "shell.execute_reply": "2022-03-29T15:37:51.160351Z",
     "shell.execute_reply.started": "2022-03-29T15:37:36.056537Z"
    },
    "tags": []
   },
   "outputs": [
    {
     "name": "stdout",
     "output_type": "stream",
     "text": [
      " \n",
      "*** Profile stats marshalled to file 'C:\\\\Users\\\\teristam\\\\AppData\\\\Local\\\\Temp\\\\tmputltxg3q'. \n",
      "Embedding SnakeViz in this document...\n"
     ]
    },
    {
     "data": {
      "text/html": [
       "\n",
       "<iframe id='snakeviz-2f9c364b-af76-11ec-8c4b-6245b4ecdcbe' frameborder=0 seamless width='100%' height='1000'></iframe>\n",
       "<script>document.getElementById(\"snakeviz-2f9c364b-af76-11ec-8c4b-6245b4ecdcbe\").setAttribute(\"src\", \"http://\" + document.location.hostname + \":8080/snakeviz/C%3A%5CUsers%5Cteristam%5CAppData%5CLocal%5CTemp%5Ctmputltxg3q\")</script>\n"
      ],
      "text/plain": [
       "<IPython.core.display.HTML object>"
      ]
     },
     "metadata": {},
     "output_type": "display_data"
    }
   ],
   "source": [
    "%snakeviz template_match_all_electrodes_fast(df_sortc, templates, template_electrode_id, template_cluster_id)"
   ]
  },
  {
   "cell_type": "code",
   "execution_count": 5,
   "metadata": {},
   "outputs": [
    {
     "data": {
      "text/plain": [
       "46934"
      ]
     },
     "execution_count": 5,
     "metadata": {},
     "output_type": "execute_result"
    }
   ],
   "source": [
    "len(df_sortc)"
   ]
  },
  {
   "cell_type": "code",
   "execution_count": 8,
   "metadata": {
    "execution": {
     "iopub.execute_input": "2021-09-15T01:19:49.613966Z",
     "iopub.status.busy": "2021-09-15T01:19:49.613966Z",
     "iopub.status.idle": "2021-09-15T01:19:49.783967Z",
     "shell.execute_reply": "2021-09-15T01:19:49.783967Z",
     "shell.execute_reply.started": "2021-09-15T01:19:49.613966Z"
    },
    "tags": []
   },
   "outputs": [
    {
     "name": "stdout",
     "output_type": "stream",
     "text": [
      "0.0001704521242595986\n"
     ]
    },
    {
     "data": {
      "text/plain": [
       "58.6675"
      ]
     },
     "execution_count": 8,
     "metadata": {},
     "output_type": "execute_result"
    }
   ],
   "source": [
    "time_per_spike = 8/46934\n",
    "print(time_per_spike)\n",
    "\n",
    "1/time_per_spike/100"
   ]
  },
  {
   "cell_type": "code",
   "execution_count": null,
   "metadata": {},
   "outputs": [],
   "source": []
  }
 ],
 "metadata": {
  "interpreter": {
   "hash": "c7316875b2ab5021e49e8715549b7dc2c796535a32e84ef2e9ed57f5db8fcd5a"
  },
  "kernelspec": {
   "display_name": "Python [conda env:oeEnv3.8]",
   "language": "python",
   "name": "conda-env-oeEnv3.8-py"
  },
  "language_info": {
   "codemirror_mode": {
    "name": "ipython",
    "version": 3
   },
   "file_extension": ".py",
   "mimetype": "text/x-python",
   "name": "python",
   "nbconvert_exporter": "python",
   "pygments_lexer": "ipython3",
   "version": "3.8.5"
  }
 },
 "nbformat": 4,
 "nbformat_minor": 4
}
